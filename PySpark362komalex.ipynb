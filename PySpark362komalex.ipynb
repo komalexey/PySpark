{
  "nbformat": 4,
  "nbformat_minor": 0,
  "metadata": {
    "colab": {
      "provenance": []
    },
    "kernelspec": {
      "name": "python3",
      "display_name": "Python 3"
    },
    "language_info": {
      "name": "python"
    }
  },
  "cells": [
    {
      "cell_type": "markdown",
      "source": [
        "Генерация синтетических данных с использованием Apache Spark.\n",
        "Цель задания: Использовать Apache Spark для создания синтетического набора данных, который имитирует информацию о покупках в интернет-магазине. Набор данных должен включать в себя информацию о заказах, включая дату заказа, идентификатор пользователя, название товара, количество и цену. Сгенерированные данные будут использованы для последующего анализа покупательской активности и понимания потребительских трендов.\n",
        "\n",
        "Шаги выполнения:\n",
        "1. Генерация данных:\n",
        "- Создать DataFrame с полями: Дата, UserID, Продукт, Количество, Цена.\n",
        "- Данные для поля Продукт генерируются из списка возможных товаров ( не меньше 5 товаров )\n",
        "- Количество и Цена должны генерироваться случайно в заданных пределах.\n",
        "- Дата должна быть в пределах последнего года.\n",
        "- UserID представляет собой случайное число, имитирующее идентификаторы пользователей.\n",
        "- Обратите внимание, что должна быть возможности изменять количество сгенерированных строк. Минимальное количество - 1000 строк.\n",
        "\n",
        "2. Сохранение данных:\n",
        "Сохранить сгенерированный DataFrame в формате CSV для последующего анализа."
      ],
      "metadata": {
        "id": "gCzpTstqX5hl"
      }
    },
    {
      "cell_type": "code",
      "source": [
        "!pip install pyspark\n",
        "!pip install findspark"
      ],
      "metadata": {
        "colab": {
          "base_uri": "https://localhost:8080/"
        },
        "id": "97_9sR7cZP0a",
        "outputId": "2a8c6102-05fe-4a3b-b4e7-d95fac50659e"
      },
      "execution_count": 9,
      "outputs": [
        {
          "output_type": "stream",
          "name": "stdout",
          "text": [
            "Requirement already satisfied: pyspark in /usr/local/lib/python3.10/dist-packages (3.5.1)\n",
            "Requirement already satisfied: py4j==0.10.9.7 in /usr/local/lib/python3.10/dist-packages (from pyspark) (0.10.9.7)\n",
            "Requirement already satisfied: findspark in /usr/local/lib/python3.10/dist-packages (2.0.1)\n"
          ]
        }
      ]
    },
    {
      "cell_type": "code",
      "execution_count": 10,
      "metadata": {
        "id": "c1KIC37IXy91"
      },
      "outputs": [],
      "source": [
        "from pyspark.sql import SparkSession\n",
        "from pyspark.sql.functions import *\n",
        "import pandas as pd\n",
        "import random\n",
        "import datetime\n",
        "\n",
        "# Создание SparkSession\n",
        "spark = SparkSession.builder.appName(\"SyntheticEcommerceData\").getOrCreate()"
      ]
    },
    {
      "cell_type": "code",
      "source": [
        "# Список возможных товаров\n",
        "products = [\"Смартфон\", \"Ноутбук\", \"Телевизор\", \"Холодильник\", \"Стиральная машина\"]\n",
        "\n",
        "# Функция для генерации синтетических данных о покупках\n",
        "def generate_purchase_data(num_rows):\n",
        "    data = []\n",
        "    for _ in range(num_rows):\n",
        "        date = datetime.datetime.now() - datetime.timedelta(days=random.randint(0, 365))\n",
        "        user_id = random.randint(1, 10000)\n",
        "        product = random.choice(products)\n",
        "        quantity = random.randint(1, 10)\n",
        "        price = random.uniform(10, 1000)\n",
        "        data.append((date, user_id, product, quantity, price))\n",
        "    return data\n",
        "\n",
        "# Создание DataFrame с синтетическими данными о покупках\n",
        "num_rows = 1000\n",
        "purchase_data = generate_purchase_data(num_rows)\n",
        "purchase_df = spark.createDataFrame(purchase_data, [\"date\", \"user_id\", \"product\", \"quantity\", \"price\"])"
      ],
      "metadata": {
        "id": "fnGjWMyLY4OK"
      },
      "execution_count": 11,
      "outputs": []
    },
    {
      "cell_type": "code",
      "source": [
        "# Отображение первых 5 строк DataFrame\n",
        "purchase_df.show(5)\n",
        "\n",
        "# Сохранение DataFrame в формате CSV\n",
        "purchase_df.coalesce(1).write.csv(\"synthetic_ecommerce_data.csv\")"
      ],
      "metadata": {
        "colab": {
          "base_uri": "https://localhost:8080/"
        },
        "id": "ZcDoKooHZCge",
        "outputId": "cc245188-bcfc-4b28-f7f8-556d3b153257"
      },
      "execution_count": 13,
      "outputs": [
        {
          "output_type": "stream",
          "name": "stdout",
          "text": [
            "+--------------------+-------+-----------------+--------+------------------+\n",
            "|                date|user_id|          product|quantity|             price|\n",
            "+--------------------+-------+-----------------+--------+------------------+\n",
            "|2024-04-25 16:52:...|   8489|        Телевизор|      10| 768.8625781595927|\n",
            "|2024-02-02 16:52:...|   7251|Стиральная машина|       4| 300.5285661888422|\n",
            "|2024-02-16 16:52:...|   2764|          Ноутбук|       6|506.29909442427993|\n",
            "|2023-12-27 16:52:...|   5349|          Ноутбук|       5| 281.1010211325334|\n",
            "|2024-03-25 16:52:...|   7008|          Ноутбук|       8| 72.93180871927126|\n",
            "+--------------------+-------+-----------------+--------+------------------+\n",
            "only showing top 5 rows\n",
            "\n"
          ]
        }
      ]
    }
  ]
}